{
  "cells": [
    {
      "cell_type": "markdown",
      "metadata": {
        "id": "view-in-github",
        "colab_type": "text"
      },
      "source": [
        "<a href=\"https://colab.research.google.com/github/bernardesjv/jo-obsr/blob/main/Criar_imagem.ipynb\" target=\"_parent\"><img src=\"https://colab.research.google.com/assets/colab-badge.svg\" alt=\"Open In Colab\"/></a>"
      ]
    },
    {
      "cell_type": "code",
      "execution_count": null,
      "metadata": {
        "id": "-oKMjyF-xt9_"
      },
      "outputs": [],
      "source": [
        "from PIL import Image\n",
        "import numpy as np\n",
        "from google.colab.patches import cv2_imshow\n"
      ]
    },
    {
      "cell_type": "code",
      "execution_count": null,
      "metadata": {
        "id": "6W-fI0blzR6q"
      },
      "outputs": [],
      "source": [
        "arrayImg1 = np.array(np.random.randint(0,255,(10000,10000)),dtype=np.uint8)"
      ]
    },
    {
      "cell_type": "code",
      "execution_count": null,
      "metadata": {
        "colab": {
          "base_uri": "https://localhost:8080/"
        },
        "id": "YQW9ixi9z5I6",
        "outputId": "bc98925c-1660-434a-b361-955f53dbdc3a"
      },
      "outputs": [
        {
          "data": {
            "text/plain": [
              "dtype('uint8')"
            ]
          },
          "execution_count": 58,
          "metadata": {},
          "output_type": "execute_result"
        }
      ],
      "source": [
        "arrayImg1.dtype"
      ]
    },
    {
      "cell_type": "code",
      "execution_count": null,
      "metadata": {
        "colab": {
          "base_uri": "https://localhost:8080/"
        },
        "id": "lidmOAU4z7Li",
        "outputId": "f3ecd443-0826-4f57-9991-f2b4047beada"
      },
      "outputs": [
        {
          "data": {
            "text/plain": [
              "array([[ 71, 188, 170, ...,  98,  35,  39],\n",
              "       [111, 195, 107, ..., 106, 243, 117],\n",
              "       [ 33, 174, 172, ..., 218, 151, 154],\n",
              "       ...,\n",
              "       [249,  87,  26, ..., 107,  54,  13],\n",
              "       [ 10,  92, 217, ...,  75,   4, 246],\n",
              "       [221, 126, 116, ...,  94, 190, 201]], dtype=uint8)"
            ]
          },
          "execution_count": 59,
          "metadata": {},
          "output_type": "execute_result"
        }
      ],
      "source": [
        "arrayImg1"
      ]
    },
    {
      "cell_type": "code",
      "execution_count": null,
      "metadata": {
        "id": "ZNTrKwVf0A3R"
      },
      "outputs": [],
      "source": [
        "cv2_imshow(arrayImg1)"
      ]
    },
    {
      "cell_type": "code",
      "execution_count": null,
      "metadata": {
        "id": "sD27xyKd0L6S"
      },
      "outputs": [],
      "source": [
        "img1 = Image.fromarray(arrayImg1)"
      ]
    },
    {
      "cell_type": "code",
      "execution_count": null,
      "metadata": {
        "id": "kMxu7Skv0ZJ6"
      },
      "outputs": [],
      "source": [
        "img1.save(\"Img1.png\")"
      ]
    },
    {
      "cell_type": "code",
      "execution_count": null,
      "metadata": {
        "id": "83o91U6B0lhy"
      },
      "outputs": [],
      "source": [
        "arrayimg2 = np.array(np.random.randint(1,255,(10000,10000)), dtype=np.uint8)\n",
        "arrayimg3 = np.array(np.random.randint(1,255,(10000,10000)), dtype=np.uint8)"
      ]
    },
    {
      "cell_type": "code",
      "execution_count": null,
      "metadata": {
        "id": "vrW6-Y6a1IBy"
      },
      "outputs": [],
      "source": [
        "arrayImg4 = np.zeros((10000,10000,3), dtype=np.uint8)"
      ]
    },
    {
      "cell_type": "code",
      "execution_count": null,
      "metadata": {
        "colab": {
          "base_uri": "https://localhost:8080/"
        },
        "id": "VLrzmlED1m9S",
        "outputId": "e7994938-f61f-4e98-8a23-8123a44f782d"
      },
      "outputs": [
        {
          "data": {
            "text/plain": [
              "(100, 100, 3)"
            ]
          },
          "execution_count": 52,
          "metadata": {},
          "output_type": "execute_result"
        }
      ],
      "source": [
        "arrayImg4.shape"
      ]
    },
    {
      "cell_type": "code",
      "execution_count": null,
      "metadata": {
        "colab": {
          "base_uri": "https://localhost:8080/",
          "height": 117
        },
        "id": "hp7lgbeC1tu6",
        "outputId": "0f864751-869a-42d7-bb49-22287cd09d4e"
      },
      "outputs": [
        {
          "data": {
            "image/jpeg": "[encoded data removed]",
            "image/png": "[encoded data removed]",
            "text/plain": [
              "<PIL.Image.Image image mode=RGB size=100x100>"
            ]
          },
          "metadata": {},
          "output_type": "display_data"
        }
      ],
      "source": [
        "cv2_imshow(arrayImg4)"
      ]
    },
    {
      "cell_type": "code",
      "execution_count": null,
      "metadata": {
        "id": "3zEZJ93b18IS"
      },
      "outputs": [],
      "source": [
        "arrayImg4[:,:,0] = arrayImg1\n",
        "arrayImg4[:,:,1] = arrayimg2\n",
        "arrayImg4[:,:,2] = arrayimg3"
      ]
    },
    {
      "cell_type": "code",
      "execution_count": null,
      "metadata": {
        "colab": {
          "base_uri": "https://localhost:8080/",
          "height": 117
        },
        "id": "SkFnRBD83Owz",
        "outputId": "2684e3af-704c-4066-9265-8b32b9a85ca9"
      },
      "outputs": [
        {
          "data": {
            "image/jpeg": "[encoded data removed]",
            "image/png": "[encoded data removed]",
            "text/plain": [
              "<PIL.Image.Image image mode=RGB size=100x100>"
            ]
          },
          "metadata": {},
          "output_type": "display_data"
        }
      ],
      "source": [
        "cv2_imshow(arrayImg4)"
      ]
    },
    {
      "cell_type": "code",
      "execution_count": null,
      "metadata": {
        "id": "BlQsCrTJ3YSD"
      },
      "outputs": [],
      "source": [
        "img2 = Image.fromarray(arrayImg4)"
      ]
    },
    {
      "cell_type": "code",
      "execution_count": null,
      "metadata": {
        "colab": {
          "background_save": true
        },
        "id": "N-6rGghC3k87"
      },
      "outputs": [],
      "source": [
        "img2.save(\"imgRGB.png\")"
      ]
    },
    {
      "cell_type": "markdown",
      "metadata": {
        "id": "hQK9k6hGzKlx"
      },
      "source": []
    }
  ],
  "metadata": {
    "colab": {
      "provenance": [],
      "authorship_tag": "ABX9TyMHiYx2KpRlVoXx6851pg1M",
      "include_colab_link": true
    },
    "kernelspec": {
      "display_name": "Python 3",
      "name": "python3"
    },
    "language_info": {
      "name": "python"
    }
  },
  "nbformat": 4,
  "nbformat_minor": 0
}